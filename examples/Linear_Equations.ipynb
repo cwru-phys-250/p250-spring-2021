{
 "cells": [
  {
   "cell_type": "markdown",
   "metadata": {},
   "source": [
    "# Systems of Linear Equations\n",
    "\n",
    "Here we will see various functions for solving and manipulating systems of linear equations."
   ]
  },
  {
   "cell_type": "markdown",
   "metadata": {},
   "source": [
    "## Initialization"
   ]
  },
  {
   "cell_type": "code",
   "execution_count": 1,
   "metadata": {},
   "outputs": [],
   "source": [
    "import numpy as np\n",
    "import scipy.linalg as la"
   ]
  },
  {
   "cell_type": "markdown",
   "metadata": {},
   "source": [
    "As we have seen, the main linear algebra routines are contained in `scipy.linalg`. Here we will focus on some of those from \"Basics\" and those related to the LU decomposition.\n",
    "\n",
    "We begin by reminding ourselves of what is available in `scipy.linalg`."
   ]
  },
  {
   "cell_type": "code",
   "execution_count": 2,
   "metadata": {},
   "outputs": [
    {
     "data": {
      "text/plain": [
       "\u001b[0;31mType:\u001b[0m        module\n",
       "\u001b[0;31mString form:\u001b[0m <module 'scipy.linalg' from '/home/craig/opt/anaconda/envs/p250/lib/python3.8/site-packages/scipy/linalg/__init__.py'>\n",
       "\u001b[0;31mFile:\u001b[0m        ~/opt/anaconda/envs/p250/lib/python3.8/site-packages/scipy/linalg/__init__.py\n",
       "\u001b[0;31mDocstring:\u001b[0m  \n",
       "====================================\n",
       "Linear algebra (:mod:`scipy.linalg`)\n",
       "====================================\n",
       "\n",
       ".. currentmodule:: scipy.linalg\n",
       "\n",
       "Linear algebra functions.\n",
       "\n",
       ".. eventually, we should replace the numpy.linalg HTML link with just `numpy.linalg`\n",
       "\n",
       ".. seealso::\n",
       "\n",
       "   `numpy.linalg <https://www.numpy.org/devdocs/reference/routines.linalg.html>`__\n",
       "   for more linear algebra functions. Note that\n",
       "   although `scipy.linalg` imports most of them, identically named\n",
       "   functions from `scipy.linalg` may offer more or slightly differing\n",
       "   functionality.\n",
       "\n",
       "\n",
       "Basics\n",
       "======\n",
       "\n",
       ".. autosummary::\n",
       "   :toctree: generated/\n",
       "\n",
       "   inv - Find the inverse of a square matrix\n",
       "   solve - Solve a linear system of equations\n",
       "   solve_banded - Solve a banded linear system\n",
       "   solveh_banded - Solve a Hermitian or symmetric banded system\n",
       "   solve_circulant - Solve a circulant system\n",
       "   solve_triangular - Solve a triangular matrix\n",
       "   solve_toeplitz - Solve a toeplitz matrix\n",
       "   matmul_toeplitz - Multiply a Toeplitz matrix with an array.\n",
       "   det - Find the determinant of a square matrix\n",
       "   norm - Matrix and vector norm\n",
       "   lstsq - Solve a linear least-squares problem\n",
       "   pinv - Pseudo-inverse (Moore-Penrose) using lstsq\n",
       "   pinv2 - Pseudo-inverse using svd\n",
       "   pinvh - Pseudo-inverse of hermitian matrix\n",
       "   kron - Kronecker product of two arrays\n",
       "   khatri_rao - Khatri-Rao product of two arrays\n",
       "   tril - Construct a lower-triangular matrix from a given matrix\n",
       "   triu - Construct an upper-triangular matrix from a given matrix\n",
       "   orthogonal_procrustes - Solve an orthogonal Procrustes problem\n",
       "   matrix_balance - Balance matrix entries with a similarity transformation\n",
       "   subspace_angles - Compute the subspace angles between two matrices\n",
       "   LinAlgError\n",
       "   LinAlgWarning\n",
       "\n",
       "Eigenvalue Problems\n",
       "===================\n",
       "\n",
       ".. autosummary::\n",
       "   :toctree: generated/\n",
       "\n",
       "   eig - Find the eigenvalues and eigenvectors of a square matrix\n",
       "   eigvals - Find just the eigenvalues of a square matrix\n",
       "   eigh - Find the e-vals and e-vectors of a Hermitian or symmetric matrix\n",
       "   eigvalsh - Find just the eigenvalues of a Hermitian or symmetric matrix\n",
       "   eig_banded - Find the eigenvalues and eigenvectors of a banded matrix\n",
       "   eigvals_banded - Find just the eigenvalues of a banded matrix\n",
       "   eigh_tridiagonal - Find the eigenvalues and eigenvectors of a tridiagonal matrix\n",
       "   eigvalsh_tridiagonal - Find just the eigenvalues of a tridiagonal matrix\n",
       "\n",
       "Decompositions\n",
       "==============\n",
       "\n",
       ".. autosummary::\n",
       "   :toctree: generated/\n",
       "\n",
       "   lu - LU decomposition of a matrix\n",
       "   lu_factor - LU decomposition returning unordered matrix and pivots\n",
       "   lu_solve - Solve Ax=b using back substitution with output of lu_factor\n",
       "   svd - Singular value decomposition of a matrix\n",
       "   svdvals - Singular values of a matrix\n",
       "   diagsvd - Construct matrix of singular values from output of svd\n",
       "   orth - Construct orthonormal basis for the range of A using svd\n",
       "   null_space - Construct orthonormal basis for the null space of A using svd\n",
       "   ldl - LDL.T decomposition of a Hermitian or a symmetric matrix.\n",
       "   cholesky - Cholesky decomposition of a matrix\n",
       "   cholesky_banded - Cholesky decomp. of a sym. or Hermitian banded matrix\n",
       "   cho_factor - Cholesky decomposition for use in solving a linear system\n",
       "   cho_solve - Solve previously factored linear system\n",
       "   cho_solve_banded - Solve previously factored banded linear system\n",
       "   polar - Compute the polar decomposition.\n",
       "   qr - QR decomposition of a matrix\n",
       "   qr_multiply - QR decomposition and multiplication by Q\n",
       "   qr_update - Rank k QR update\n",
       "   qr_delete - QR downdate on row or column deletion\n",
       "   qr_insert - QR update on row or column insertion\n",
       "   rq - RQ decomposition of a matrix\n",
       "   qz - QZ decomposition of a pair of matrices\n",
       "   ordqz - QZ decomposition of a pair of matrices with reordering\n",
       "   schur - Schur decomposition of a matrix\n",
       "   rsf2csf - Real to complex Schur form\n",
       "   hessenberg - Hessenberg form of a matrix\n",
       "   cdf2rdf - Complex diagonal form to real diagonal block form\n",
       "   cossin - Cosine sine decomposition of a unitary or orthogonal matrix\n",
       "\n",
       ".. seealso::\n",
       "\n",
       "   `scipy.linalg.interpolative` -- Interpolative matrix decompositions\n",
       "\n",
       "\n",
       "Matrix Functions\n",
       "================\n",
       "\n",
       ".. autosummary::\n",
       "   :toctree: generated/\n",
       "\n",
       "   expm - Matrix exponential\n",
       "   logm - Matrix logarithm\n",
       "   cosm - Matrix cosine\n",
       "   sinm - Matrix sine\n",
       "   tanm - Matrix tangent\n",
       "   coshm - Matrix hyperbolic cosine\n",
       "   sinhm - Matrix hyperbolic sine\n",
       "   tanhm - Matrix hyperbolic tangent\n",
       "   signm - Matrix sign\n",
       "   sqrtm - Matrix square root\n",
       "   funm - Evaluating an arbitrary matrix function\n",
       "   expm_frechet - Frechet derivative of the matrix exponential\n",
       "   expm_cond - Relative condition number of expm in the Frobenius norm\n",
       "   fractional_matrix_power - Fractional matrix power\n",
       "\n",
       "\n",
       "Matrix Equation Solvers\n",
       "=======================\n",
       "\n",
       ".. autosummary::\n",
       "   :toctree: generated/\n",
       "\n",
       "   solve_sylvester - Solve the Sylvester matrix equation\n",
       "   solve_continuous_are - Solve the continuous-time algebraic Riccati equation\n",
       "   solve_discrete_are - Solve the discrete-time algebraic Riccati equation\n",
       "   solve_continuous_lyapunov - Solve the continuous-time Lyapunov equation\n",
       "   solve_discrete_lyapunov - Solve the discrete-time Lyapunov equation\n",
       "\n",
       "\n",
       "Sketches and Random Projections\n",
       "===============================\n",
       "\n",
       ".. autosummary::\n",
       "   :toctree: generated/\n",
       "\n",
       "   clarkson_woodruff_transform - Applies the Clarkson Woodruff Sketch (a.k.a CountMin Sketch)\n",
       "\n",
       "Special Matrices\n",
       "================\n",
       "\n",
       ".. autosummary::\n",
       "   :toctree: generated/\n",
       "\n",
       "   block_diag - Construct a block diagonal matrix from submatrices\n",
       "   circulant - Circulant matrix\n",
       "   companion - Companion matrix\n",
       "   convolution_matrix - Convolution matrix\n",
       "   dft - Discrete Fourier transform matrix\n",
       "   fiedler - Fiedler matrix\n",
       "   fiedler_companion - Fiedler companion matrix\n",
       "   hadamard - Hadamard matrix of order 2**n\n",
       "   hankel - Hankel matrix\n",
       "   helmert - Helmert matrix\n",
       "   hilbert - Hilbert matrix\n",
       "   invhilbert - Inverse Hilbert matrix\n",
       "   leslie - Leslie matrix\n",
       "   pascal - Pascal matrix\n",
       "   invpascal - Inverse Pascal matrix\n",
       "   toeplitz - Toeplitz matrix\n",
       "   tri - Construct a matrix filled with ones at and below a given diagonal\n",
       "\n",
       "Low-level routines\n",
       "==================\n",
       "\n",
       ".. autosummary::\n",
       "   :toctree: generated/\n",
       "\n",
       "   get_blas_funcs\n",
       "   get_lapack_funcs\n",
       "   find_best_blas_type\n",
       "\n",
       ".. seealso::\n",
       "\n",
       "   `scipy.linalg.blas` -- Low-level BLAS functions\n",
       "\n",
       "   `scipy.linalg.lapack` -- Low-level LAPACK functions\n",
       "\n",
       "   `scipy.linalg.cython_blas` -- Low-level BLAS functions for Cython\n",
       "\n",
       "   `scipy.linalg.cython_lapack` -- Low-level LAPACK functions for Cython\n"
      ]
     },
     "metadata": {},
     "output_type": "display_data"
    }
   ],
   "source": [
    "la?"
   ]
  },
  {
   "cell_type": "markdown",
   "metadata": {},
   "source": [
    "Also as always we should look at the documentation for any and all functions that interest us.  Here we look at a few.  In the prelab and lab we will explore the use of `solve_banded`."
   ]
  },
  {
   "cell_type": "code",
   "execution_count": 3,
   "metadata": {},
   "outputs": [
    {
     "data": {
      "text/plain": [
       "\u001b[0;31mSignature:\u001b[0m\n",
       "\u001b[0mla\u001b[0m\u001b[0;34m.\u001b[0m\u001b[0msolve\u001b[0m\u001b[0;34m(\u001b[0m\u001b[0;34m\u001b[0m\n",
       "\u001b[0;34m\u001b[0m    \u001b[0ma\u001b[0m\u001b[0;34m,\u001b[0m\u001b[0;34m\u001b[0m\n",
       "\u001b[0;34m\u001b[0m    \u001b[0mb\u001b[0m\u001b[0;34m,\u001b[0m\u001b[0;34m\u001b[0m\n",
       "\u001b[0;34m\u001b[0m    \u001b[0msym_pos\u001b[0m\u001b[0;34m=\u001b[0m\u001b[0;32mFalse\u001b[0m\u001b[0;34m,\u001b[0m\u001b[0;34m\u001b[0m\n",
       "\u001b[0;34m\u001b[0m    \u001b[0mlower\u001b[0m\u001b[0;34m=\u001b[0m\u001b[0;32mFalse\u001b[0m\u001b[0;34m,\u001b[0m\u001b[0;34m\u001b[0m\n",
       "\u001b[0;34m\u001b[0m    \u001b[0moverwrite_a\u001b[0m\u001b[0;34m=\u001b[0m\u001b[0;32mFalse\u001b[0m\u001b[0;34m,\u001b[0m\u001b[0;34m\u001b[0m\n",
       "\u001b[0;34m\u001b[0m    \u001b[0moverwrite_b\u001b[0m\u001b[0;34m=\u001b[0m\u001b[0;32mFalse\u001b[0m\u001b[0;34m,\u001b[0m\u001b[0;34m\u001b[0m\n",
       "\u001b[0;34m\u001b[0m    \u001b[0mdebug\u001b[0m\u001b[0;34m=\u001b[0m\u001b[0;32mNone\u001b[0m\u001b[0;34m,\u001b[0m\u001b[0;34m\u001b[0m\n",
       "\u001b[0;34m\u001b[0m    \u001b[0mcheck_finite\u001b[0m\u001b[0;34m=\u001b[0m\u001b[0;32mTrue\u001b[0m\u001b[0;34m,\u001b[0m\u001b[0;34m\u001b[0m\n",
       "\u001b[0;34m\u001b[0m    \u001b[0massume_a\u001b[0m\u001b[0;34m=\u001b[0m\u001b[0;34m'gen'\u001b[0m\u001b[0;34m,\u001b[0m\u001b[0;34m\u001b[0m\n",
       "\u001b[0;34m\u001b[0m    \u001b[0mtransposed\u001b[0m\u001b[0;34m=\u001b[0m\u001b[0;32mFalse\u001b[0m\u001b[0;34m,\u001b[0m\u001b[0;34m\u001b[0m\n",
       "\u001b[0;34m\u001b[0m\u001b[0;34m)\u001b[0m\u001b[0;34m\u001b[0m\u001b[0;34m\u001b[0m\u001b[0m\n",
       "\u001b[0;31mDocstring:\u001b[0m\n",
       "Solves the linear equation set ``a * x = b`` for the unknown ``x``\n",
       "for square ``a`` matrix.\n",
       "\n",
       "If the data matrix is known to be a particular type then supplying the\n",
       "corresponding string to ``assume_a`` key chooses the dedicated solver.\n",
       "The available options are\n",
       "\n",
       "===================  ========\n",
       " generic matrix       'gen'\n",
       " symmetric            'sym'\n",
       " hermitian            'her'\n",
       " positive definite    'pos'\n",
       "===================  ========\n",
       "\n",
       "If omitted, ``'gen'`` is the default structure.\n",
       "\n",
       "The datatype of the arrays define which solver is called regardless\n",
       "of the values. In other words, even when the complex array entries have\n",
       "precisely zero imaginary parts, the complex solver will be called based\n",
       "on the data type of the array.\n",
       "\n",
       "Parameters\n",
       "----------\n",
       "a : (N, N) array_like\n",
       "    Square input data\n",
       "b : (N, NRHS) array_like\n",
       "    Input data for the right hand side.\n",
       "sym_pos : bool, optional\n",
       "    Assume `a` is symmetric and positive definite. This key is deprecated\n",
       "    and assume_a = 'pos' keyword is recommended instead. The functionality\n",
       "    is the same. It will be removed in the future.\n",
       "lower : bool, optional\n",
       "    If True, only the data contained in the lower triangle of `a`. Default\n",
       "    is to use upper triangle. (ignored for ``'gen'``)\n",
       "overwrite_a : bool, optional\n",
       "    Allow overwriting data in `a` (may enhance performance).\n",
       "    Default is False.\n",
       "overwrite_b : bool, optional\n",
       "    Allow overwriting data in `b` (may enhance performance).\n",
       "    Default is False.\n",
       "check_finite : bool, optional\n",
       "    Whether to check that the input matrices contain only finite numbers.\n",
       "    Disabling may give a performance gain, but may result in problems\n",
       "    (crashes, non-termination) if the inputs do contain infinities or NaNs.\n",
       "assume_a : str, optional\n",
       "    Valid entries are explained above.\n",
       "transposed: bool, optional\n",
       "    If True, ``a^T x = b`` for real matrices, raises `NotImplementedError`\n",
       "    for complex matrices (only for True).\n",
       "\n",
       "Returns\n",
       "-------\n",
       "x : (N, NRHS) ndarray\n",
       "    The solution array.\n",
       "\n",
       "Raises\n",
       "------\n",
       "ValueError\n",
       "    If size mismatches detected or input a is not square.\n",
       "LinAlgError\n",
       "    If the matrix is singular.\n",
       "LinAlgWarning\n",
       "    If an ill-conditioned input a is detected.\n",
       "NotImplementedError\n",
       "    If transposed is True and input a is a complex matrix.\n",
       "\n",
       "Examples\n",
       "--------\n",
       "Given `a` and `b`, solve for `x`:\n",
       "\n",
       ">>> a = np.array([[3, 2, 0], [1, -1, 0], [0, 5, 1]])\n",
       ">>> b = np.array([2, 4, -1])\n",
       ">>> from scipy import linalg\n",
       ">>> x = linalg.solve(a, b)\n",
       ">>> x\n",
       "array([ 2., -2.,  9.])\n",
       ">>> np.dot(a, x) == b\n",
       "array([ True,  True,  True], dtype=bool)\n",
       "\n",
       "Notes\n",
       "-----\n",
       "If the input b matrix is a 1-D array with N elements, when supplied\n",
       "together with an NxN input a, it is assumed as a valid column vector\n",
       "despite the apparent size mismatch. This is compatible with the\n",
       "numpy.dot() behavior and the returned result is still 1-D array.\n",
       "\n",
       "The generic, symmetric, Hermitian and positive definite solutions are\n",
       "obtained via calling ?GESV, ?SYSV, ?HESV, and ?POSV routines of\n",
       "LAPACK respectively.\n",
       "\u001b[0;31mFile:\u001b[0m      ~/opt/anaconda/envs/p250/lib/python3.8/site-packages/scipy/linalg/basic.py\n",
       "\u001b[0;31mType:\u001b[0m      function\n"
      ]
     },
     "metadata": {},
     "output_type": "display_data"
    }
   ],
   "source": [
    "la.solve?"
   ]
  },
  {
   "cell_type": "code",
   "execution_count": 4,
   "metadata": {},
   "outputs": [
    {
     "data": {
      "text/plain": [
       "\u001b[0;31mSignature:\u001b[0m \u001b[0mla\u001b[0m\u001b[0;34m.\u001b[0m\u001b[0mlu\u001b[0m\u001b[0;34m(\u001b[0m\u001b[0ma\u001b[0m\u001b[0;34m,\u001b[0m \u001b[0mpermute_l\u001b[0m\u001b[0;34m=\u001b[0m\u001b[0;32mFalse\u001b[0m\u001b[0;34m,\u001b[0m \u001b[0moverwrite_a\u001b[0m\u001b[0;34m=\u001b[0m\u001b[0;32mFalse\u001b[0m\u001b[0;34m,\u001b[0m \u001b[0mcheck_finite\u001b[0m\u001b[0;34m=\u001b[0m\u001b[0;32mTrue\u001b[0m\u001b[0;34m)\u001b[0m\u001b[0;34m\u001b[0m\u001b[0;34m\u001b[0m\u001b[0m\n",
       "\u001b[0;31mDocstring:\u001b[0m\n",
       "Compute pivoted LU decomposition of a matrix.\n",
       "\n",
       "The decomposition is::\n",
       "\n",
       "    A = P L U\n",
       "\n",
       "where P is a permutation matrix, L lower triangular with unit\n",
       "diagonal elements, and U upper triangular.\n",
       "\n",
       "Parameters\n",
       "----------\n",
       "a : (M, N) array_like\n",
       "    Array to decompose\n",
       "permute_l : bool, optional\n",
       "    Perform the multiplication P*L (Default: do not permute)\n",
       "overwrite_a : bool, optional\n",
       "    Whether to overwrite data in a (may improve performance)\n",
       "check_finite : bool, optional\n",
       "    Whether to check that the input matrix contains only finite numbers.\n",
       "    Disabling may give a performance gain, but may result in problems\n",
       "    (crashes, non-termination) if the inputs do contain infinities or NaNs.\n",
       "\n",
       "Returns\n",
       "-------\n",
       "**(If permute_l == False)**\n",
       "\n",
       "p : (M, M) ndarray\n",
       "    Permutation matrix\n",
       "l : (M, K) ndarray\n",
       "    Lower triangular or trapezoidal matrix with unit diagonal.\n",
       "    K = min(M, N)\n",
       "u : (K, N) ndarray\n",
       "    Upper triangular or trapezoidal matrix\n",
       "\n",
       "**(If permute_l == True)**\n",
       "\n",
       "pl : (M, K) ndarray\n",
       "    Permuted L matrix.\n",
       "    K = min(M, N)\n",
       "u : (K, N) ndarray\n",
       "    Upper triangular or trapezoidal matrix\n",
       "\n",
       "Notes\n",
       "-----\n",
       "This is a LU factorization routine written for SciPy.\n",
       "\n",
       "Examples\n",
       "--------\n",
       ">>> from scipy.linalg import lu\n",
       ">>> A = np.array([[2, 5, 8, 7], [5, 2, 2, 8], [7, 5, 6, 6], [5, 4, 4, 8]])\n",
       ">>> p, l, u = lu(A)\n",
       ">>> np.allclose(A - p @ l @ u, np.zeros((4, 4)))\n",
       "True\n",
       "\u001b[0;31mFile:\u001b[0m      ~/opt/anaconda/envs/p250/lib/python3.8/site-packages/scipy/linalg/decomp_lu.py\n",
       "\u001b[0;31mType:\u001b[0m      function\n"
      ]
     },
     "metadata": {},
     "output_type": "display_data"
    }
   ],
   "source": [
    "la.lu?"
   ]
  },
  {
   "cell_type": "code",
   "execution_count": 5,
   "metadata": {},
   "outputs": [
    {
     "data": {
      "text/plain": [
       "\u001b[0;31mSignature:\u001b[0m \u001b[0mla\u001b[0m\u001b[0;34m.\u001b[0m\u001b[0mlu_factor\u001b[0m\u001b[0;34m(\u001b[0m\u001b[0ma\u001b[0m\u001b[0;34m,\u001b[0m \u001b[0moverwrite_a\u001b[0m\u001b[0;34m=\u001b[0m\u001b[0;32mFalse\u001b[0m\u001b[0;34m,\u001b[0m \u001b[0mcheck_finite\u001b[0m\u001b[0;34m=\u001b[0m\u001b[0;32mTrue\u001b[0m\u001b[0;34m)\u001b[0m\u001b[0;34m\u001b[0m\u001b[0;34m\u001b[0m\u001b[0m\n",
       "\u001b[0;31mDocstring:\u001b[0m\n",
       "Compute pivoted LU decomposition of a matrix.\n",
       "\n",
       "The decomposition is::\n",
       "\n",
       "    A = P L U\n",
       "\n",
       "where P is a permutation matrix, L lower triangular with unit\n",
       "diagonal elements, and U upper triangular.\n",
       "\n",
       "Parameters\n",
       "----------\n",
       "a : (M, M) array_like\n",
       "    Matrix to decompose\n",
       "overwrite_a : bool, optional\n",
       "    Whether to overwrite data in A (may increase performance)\n",
       "check_finite : bool, optional\n",
       "    Whether to check that the input matrix contains only finite numbers.\n",
       "    Disabling may give a performance gain, but may result in problems\n",
       "    (crashes, non-termination) if the inputs do contain infinities or NaNs.\n",
       "\n",
       "Returns\n",
       "-------\n",
       "lu : (N, N) ndarray\n",
       "    Matrix containing U in its upper triangle, and L in its lower triangle.\n",
       "    The unit diagonal elements of L are not stored.\n",
       "piv : (N,) ndarray\n",
       "    Pivot indices representing the permutation matrix P:\n",
       "    row i of matrix was interchanged with row piv[i].\n",
       "\n",
       "See also\n",
       "--------\n",
       "lu_solve : solve an equation system using the LU factorization of a matrix\n",
       "\n",
       "Notes\n",
       "-----\n",
       "This is a wrapper to the ``*GETRF`` routines from LAPACK.\n",
       "\n",
       "Examples\n",
       "--------\n",
       ">>> from scipy.linalg import lu_factor\n",
       ">>> A = np.array([[2, 5, 8, 7], [5, 2, 2, 8], [7, 5, 6, 6], [5, 4, 4, 8]])\n",
       ">>> lu, piv = lu_factor(A)\n",
       ">>> piv\n",
       "array([2, 2, 3, 3], dtype=int32)\n",
       "\n",
       "Convert LAPACK's ``piv`` array to NumPy index and test the permutation\n",
       "\n",
       ">>> piv_py = [2, 0, 3, 1]\n",
       ">>> L, U = np.tril(lu, k=-1) + np.eye(4), np.triu(lu)\n",
       ">>> np.allclose(A[piv_py] - L @ U, np.zeros((4, 4)))\n",
       "True\n",
       "\u001b[0;31mFile:\u001b[0m      ~/opt/anaconda/envs/p250/lib/python3.8/site-packages/scipy/linalg/decomp_lu.py\n",
       "\u001b[0;31mType:\u001b[0m      function\n"
      ]
     },
     "metadata": {},
     "output_type": "display_data"
    }
   ],
   "source": [
    "la.lu_factor?"
   ]
  },
  {
   "cell_type": "code",
   "execution_count": 6,
   "metadata": {},
   "outputs": [
    {
     "data": {
      "text/plain": [
       "\u001b[0;31mSignature:\u001b[0m \u001b[0mla\u001b[0m\u001b[0;34m.\u001b[0m\u001b[0mlu_solve\u001b[0m\u001b[0;34m(\u001b[0m\u001b[0mlu_and_piv\u001b[0m\u001b[0;34m,\u001b[0m \u001b[0mb\u001b[0m\u001b[0;34m,\u001b[0m \u001b[0mtrans\u001b[0m\u001b[0;34m=\u001b[0m\u001b[0;36m0\u001b[0m\u001b[0;34m,\u001b[0m \u001b[0moverwrite_b\u001b[0m\u001b[0;34m=\u001b[0m\u001b[0;32mFalse\u001b[0m\u001b[0;34m,\u001b[0m \u001b[0mcheck_finite\u001b[0m\u001b[0;34m=\u001b[0m\u001b[0;32mTrue\u001b[0m\u001b[0;34m)\u001b[0m\u001b[0;34m\u001b[0m\u001b[0;34m\u001b[0m\u001b[0m\n",
       "\u001b[0;31mDocstring:\u001b[0m\n",
       "Solve an equation system, a x = b, given the LU factorization of a\n",
       "\n",
       "Parameters\n",
       "----------\n",
       "(lu, piv)\n",
       "    Factorization of the coefficient matrix a, as given by lu_factor\n",
       "b : array\n",
       "    Right-hand side\n",
       "trans : {0, 1, 2}, optional\n",
       "    Type of system to solve:\n",
       "\n",
       "    =====  =========\n",
       "    trans  system\n",
       "    =====  =========\n",
       "    0      a x   = b\n",
       "    1      a^T x = b\n",
       "    2      a^H x = b\n",
       "    =====  =========\n",
       "overwrite_b : bool, optional\n",
       "    Whether to overwrite data in b (may increase performance)\n",
       "check_finite : bool, optional\n",
       "    Whether to check that the input matrices contain only finite numbers.\n",
       "    Disabling may give a performance gain, but may result in problems\n",
       "    (crashes, non-termination) if the inputs do contain infinities or NaNs.\n",
       "\n",
       "Returns\n",
       "-------\n",
       "x : array\n",
       "    Solution to the system\n",
       "\n",
       "See also\n",
       "--------\n",
       "lu_factor : LU factorize a matrix\n",
       "\n",
       "Examples\n",
       "--------\n",
       ">>> from scipy.linalg import lu_factor, lu_solve\n",
       ">>> A = np.array([[2, 5, 8, 7], [5, 2, 2, 8], [7, 5, 6, 6], [5, 4, 4, 8]])\n",
       ">>> b = np.array([1, 1, 1, 1])\n",
       ">>> lu, piv = lu_factor(A)\n",
       ">>> x = lu_solve((lu, piv), b)\n",
       ">>> np.allclose(A @ x - b, np.zeros((4,)))\n",
       "True\n",
       "\u001b[0;31mFile:\u001b[0m      ~/opt/anaconda/envs/p250/lib/python3.8/site-packages/scipy/linalg/decomp_lu.py\n",
       "\u001b[0;31mType:\u001b[0m      function\n"
      ]
     },
     "metadata": {},
     "output_type": "display_data"
    }
   ],
   "source": [
    "la.lu_solve?"
   ]
  },
  {
   "cell_type": "markdown",
   "metadata": {},
   "source": [
    "Notice that there are a few functions related to the LU decomposition.  We will learn why this is the case below."
   ]
  },
  {
   "cell_type": "markdown",
   "metadata": {},
   "source": [
    "## Sample system\n",
    "\n",
    "As a sample system we will consider the one studied in class,\n",
    "$$ \\begin{align}\n",
    "10 x_1 - 7 x_2 + x_3 &= 8, \\\\\n",
    "-3 x_1 + 2 x_2 + 6 x_3 &= 4, \\\\\n",
    "5 x_1 - x_2 + 5 x_3 &= 6 .\n",
    "\\end{align} $$\n",
    "As we saw we can write this in the form \n",
    "$$\\mathsf{A}\\vec x = \\vec b, $$\n",
    "where\n",
    "$$ \\mathsf{A} = \\left( \\begin{array}{rrr}\n",
    "10 & -7 & 1 \\\\\n",
    "-3 & 2 & 6 \\\\\n",
    "5 & -1 & 5\n",
    "\\end{array} \\right)\n",
    "\\quad\\mathrm{and}\\quad\n",
    "\\vec b = \\left( \\begin{array}{c} 8 \\\\ 4 \\\\ 6 \\end{array} \\right). $$\n",
    "\n",
    "We can create these as arrays using `np.array`.  As noted last week,\n",
    "we force the result to be a floating point array, not an integer array, by making any one of the entries a floating point number.  NumPy tries to use the \"simplest\" data type when it creates an array.  There are a few ways to force the type it chooses, this is one way."
   ]
  },
  {
   "cell_type": "code",
   "execution_count": 7,
   "metadata": {},
   "outputs": [],
   "source": [
    "A = np.array([ [10, -7, 1.], [-3, 2, 6], [5, -1, 5] ])\n",
    "b = np.array([8., 4, 6])"
   ]
  },
  {
   "cell_type": "markdown",
   "metadata": {},
   "source": [
    "### Solving the System\n",
    "\n",
    "To solve this system we can, not surprisingly, use `solve`."
   ]
  },
  {
   "cell_type": "code",
   "execution_count": 8,
   "metadata": {},
   "outputs": [
    {
     "name": "stdout",
     "output_type": "stream",
     "text": [
      "[ 0. -1.  1.]\n"
     ]
    }
   ],
   "source": [
    "x = la.solve(A, b)\n",
    "print(x)"
   ]
  },
  {
   "cell_type": "markdown",
   "metadata": {},
   "source": [
    "#### Verifying the Solution\n",
    "\n",
    "To verify the solution we can directly evaluate $\\mathsf{A} \\vec x$ and compare it to $\\vec b$.  Of course this only verifies that the `solve` function has worked correctly, it does not verify that we have entered $\\mathsf{A}$ and $\\vec b$ correctly.  There are two steps, one is to actually perform the multiplication and the second is to compare the $\\mathsf{A} \\vec x$ to $\\vec b$.\n",
    "\n",
    "Again, we learned about this last week.  We know we need to use `np.dot()` for the multiplication/"
   ]
  },
  {
   "cell_type": "code",
   "execution_count": 9,
   "metadata": {},
   "outputs": [
    {
     "name": "stdout",
     "output_type": "stream",
     "text": [
      "np.dot(A, x) = [8. 4. 6.]\n"
     ]
    }
   ],
   "source": [
    "print('np.dot(A, x) =', np.dot(A,x))"
   ]
  },
  {
   "cell_type": "markdown",
   "metadata": {},
   "source": [
    "Notice that this returns a vector at that vector should be $\\vec b$.  We can include a test to verify this."
   ]
  },
  {
   "cell_type": "code",
   "execution_count": 10,
   "metadata": {},
   "outputs": [],
   "source": [
    "assert(np.allclose(np.dot(A,x), b))"
   ]
  },
  {
   "cell_type": "markdown",
   "metadata": {},
   "source": [
    "##### Infix Operator '`@'`\n",
    "\n",
    "It turns out that there is now a terser way of doing these multiplications.  Starting with Python 3.5 there is shorthand for this, using `@`.  This is *only* available in Python 3.5 (and later).  While it is true that it will work for us, this is not portable to older versions of Python and it is not backported via the `__future__` module.  Thus, using it will mean writing code that only works in a specific version of Python.  If you are interested in details/rationale see [PEP 456](https://www.python.org/dev/peps/pep-0465/).\n",
    "\n",
    "Should you use it? It is up to you.  Older versions of Python continue to exist, though it is much better to be using a newer version.  There have been many improvements.  As far as this course is concerned, whether you should use the `@` operator or the `np.dot` function will be left up to you.\n",
    "\n",
    "To verify it works we do a test.  Notice it gives the same result as `np.dot`."
   ]
  },
  {
   "cell_type": "code",
   "execution_count": 11,
   "metadata": {},
   "outputs": [
    {
     "name": "stdout",
     "output_type": "stream",
     "text": [
      "A @ x = [8. 4. 6.]\n"
     ]
    }
   ],
   "source": [
    "print('A @ x =', A @ x)"
   ]
  },
  {
   "cell_type": "markdown",
   "metadata": {},
   "source": [
    "### Factoring the System\n",
    "\n",
    "As discussed in class, the work required to solve the system of equations mostly involves manipulating the matrix, $\\mathsf{A}$, and then performing the same manipulations on the right hand side of the equations, $\\vec b$.  We could instead have many right hand sides (a two dimensional array with multiple columns, one for each set of values for which we want to find a solution).  This is handled by `solve`.  Alternatively, we can decompose $\\mathsf{A}$ into pieces that encode the required manipulations using the LU decomposition.  The decomposition only needs to be performed once, it can then be applied whenever needed.  Finally, we saw that for numerical stability we should also pivot the matrix.  LU decomposition with pivoting is provided by `scipy.linalg.lu`."
   ]
  },
  {
   "cell_type": "code",
   "execution_count": 12,
   "metadata": {},
   "outputs": [
    {
     "name": "stdout",
     "output_type": "stream",
     "text": [
      "Permutation matrix:\n",
      " [[1. 0. 0.]\n",
      " [0. 0. 1.]\n",
      " [0. 1. 0.]]\n",
      "Lower triangular matrix:\n",
      " [[ 1.    0.    0.  ]\n",
      " [ 0.5   1.    0.  ]\n",
      " [-0.3  -0.04  1.  ]]\n",
      "Upper triangular matrix:\n",
      " [[10.   -7.    1.  ]\n",
      " [ 0.    2.5   4.5 ]\n",
      " [ 0.    0.    6.48]]\n"
     ]
    }
   ],
   "source": [
    "(P, L, U) = la.lu(A)\n",
    "print(\"Permutation matrix:\\n\", P)\n",
    "print(\"Lower triangular matrix:\\n\", L)\n",
    "print(\"Upper triangular matrix:\\n\", U)\n",
    "# Verify that this is the decomposition of A\n",
    "assert(np.allclose(P@L@U, A))"
   ]
  },
  {
   "cell_type": "markdown",
   "metadata": {},
   "source": [
    "By default we are given the permutation matrix and the lower and upper triangular matrices that, when recombined, produce $\\mathsf{A}$.  This function is good when we want to see the decomposition in a form easy for us to read.  If we want to use the decomposition for solving systems of linear equations the information could be stored in a more efficient form for the computer's use.\n",
    "\n",
    "Note that our choice of using generic arrays for storing matrices comes at a cost when we want to multiply many of them together.  Here we have used the `@` operator.  If we had used `np.dot` instead we would have needed to use nested calls to `np.dot`.  This can be slightly streamlined, but remains tedious.\n",
    "\n",
    "Getting back to solving a system of equations, we can use `scipy.linalg.lu_factor` to decompose in a form more useful for the computer."
   ]
  },
  {
   "cell_type": "code",
   "execution_count": 13,
   "metadata": {},
   "outputs": [
    {
     "data": {
      "text/plain": [
       "(array([[10.  , -7.  ,  1.  ],\n",
       "        [ 0.5 ,  2.5 ,  4.5 ],\n",
       "        [-0.3 , -0.04,  6.48]]),\n",
       " array([0, 2, 2], dtype=int32))"
      ]
     },
     "execution_count": 13,
     "metadata": {},
     "output_type": "execute_result"
    }
   ],
   "source": [
    "la.lu_factor(A)"
   ]
  },
  {
   "cell_type": "markdown",
   "metadata": {},
   "source": [
    "Here L and U have been merged into a single matrix (notice in the form above that L had ones along the diagonal so they do not need to be stored) and the permutations are represented by a one dimensional array instead a matrix.  This is much more memory efficient, but is also much harder for us to read.  Even so, this can be used in `scipy.linalg.lu_solve`.  In fact, the `tuple` returned here is exactly what needs to be provided as the first argument to that function."
   ]
  },
  {
   "cell_type": "code",
   "execution_count": 14,
   "metadata": {},
   "outputs": [
    {
     "name": "stdout",
     "output_type": "stream",
     "text": [
      "LU solution: [ 0. -1.  1.]\n"
     ]
    }
   ],
   "source": [
    "lufactors = la.lu_factor(A)\n",
    "xlu = la.lu_solve(lufactors, b)\n",
    "print(\"LU solution:\", xlu)\n",
    "# Verify that the solution is consistent with the previous one.\n",
    "assert(np.allclose(xlu, x))"
   ]
  },
  {
   "cell_type": "markdown",
   "metadata": {},
   "source": [
    "## Slightly Larger System\n",
    "\n",
    "As an example of a slightly larger system and one where we want to find solutions with different right hand sides consider\n",
    "$$\\mathsf{A} = \\left( \\begin{array}{rrrr}\n",
    "2 & -3 & 1 & 3 \\\\\n",
    "1 & 4 & -3 & -3 \\\\\n",
    "5 & 3 & -1 & -1 \\\\\n",
    "3 & -6 & -3 & 1\n",
    "\\end{array} \\right),\n",
    "\\quad\n",
    "\\vec b_1 = \\left( \\begin{array}{r}\n",
    "-4 \\\\ 1 \\\\ 8 \\\\ -5\n",
    "\\end{array} \\right),\n",
    "\\quad\n",
    "\\vec b_2 = \\left( \\begin{array}{r}\n",
    "-10 \\\\ 0 \\\\ -3 \\\\ -24\n",
    "\\end{array} \\right).\n",
    "$$"
   ]
  },
  {
   "cell_type": "code",
   "execution_count": 15,
   "metadata": {},
   "outputs": [],
   "source": [
    "A = np.array([ [2., -3, 1, 3], [1, 4, -3, -3], [5, 3, -1, -1], [3, -6, -3, 1]])\n",
    "b1 = np.array([-4., 1, 8, -5])\n",
    "b2 = np.array([-10., 0, -3, -24])"
   ]
  },
  {
   "cell_type": "markdown",
   "metadata": {},
   "source": [
    "We can solve this directly using `solve`."
   ]
  },
  {
   "cell_type": "code",
   "execution_count": 16,
   "metadata": {},
   "outputs": [
    {
     "name": "stdout",
     "output_type": "stream",
     "text": [
      "Solution for b1: [ 2. -1.  4. -5.]\n",
      "Solution for b2: [-1.  1.  4. -3.]\n"
     ]
    }
   ],
   "source": [
    "print(\"Solution for b1:\", la.solve(A, b1))\n",
    "print(\"Solution for b2:\", la.solve(A, b2))"
   ]
  },
  {
   "cell_type": "markdown",
   "metadata": {},
   "source": [
    "Alternatively we can use an LU decomposition.  Notice the decomposition is only performed once."
   ]
  },
  {
   "cell_type": "code",
   "execution_count": 17,
   "metadata": {},
   "outputs": [
    {
     "name": "stdout",
     "output_type": "stream",
     "text": [
      "LU solution for b1: [ 2. -1.  4. -5.]\n",
      "LU solution for b2: [-1.  1.  4. -3.]\n"
     ]
    }
   ],
   "source": [
    "lufactors = la.lu_factor(A)\n",
    "print(\"LU solution for b1:\", la.lu_solve(lufactors, b1))\n",
    "print(\"LU solution for b2:\", la.lu_solve(lufactors, b2))"
   ]
  },
  {
   "cell_type": "markdown",
   "metadata": {},
   "source": [
    "Finally, we could have solved for both right hand sides at once.  To do this we need to combine `b1` and `b2`.  We do this below.  In general this is the **wrong approach**.  In practice we should have created `b` as a two dimensional array and used array slicing to pull out the pieces we needed.  It is **almost never** a good idea to proceed as we have done here, that is, to create the individual pieces and then recombine them.  Even so, there are a few functions that allow us to combine arrays, you will have to discover them for yourself if you find a valid need for them."
   ]
  },
  {
   "cell_type": "code",
   "execution_count": 18,
   "metadata": {},
   "outputs": [
    {
     "data": {
      "text/plain": [
       "array([[ -4.,   1.,   8.,  -5.],\n",
       "       [-10.,   0.,  -3., -24.]])"
      ]
     },
     "execution_count": 18,
     "metadata": {},
     "output_type": "execute_result"
    }
   ],
   "source": [
    "b = np.vstack((b1, b2))\n",
    "b"
   ]
  },
  {
   "cell_type": "markdown",
   "metadata": {},
   "source": [
    "If we try to use this with `solve` it fails!"
   ]
  },
  {
   "cell_type": "code",
   "execution_count": 19,
   "metadata": {},
   "outputs": [
    {
     "ename": "ValueError",
     "evalue": "Input b has to have same number of rows as input a",
     "output_type": "error",
     "traceback": [
      "\u001b[0;31m---------------------------------------------------------------------------\u001b[0m",
      "\u001b[0;31mValueError\u001b[0m                                Traceback (most recent call last)",
      "\u001b[0;32m<ipython-input-19-8d8059b5e855>\u001b[0m in \u001b[0;36m<module>\u001b[0;34m\u001b[0m\n\u001b[0;32m----> 1\u001b[0;31m \u001b[0mla\u001b[0m\u001b[0;34m.\u001b[0m\u001b[0msolve\u001b[0m\u001b[0;34m(\u001b[0m\u001b[0mA\u001b[0m\u001b[0;34m,\u001b[0m \u001b[0mb\u001b[0m\u001b[0;34m)\u001b[0m\u001b[0;34m\u001b[0m\u001b[0;34m\u001b[0m\u001b[0m\n\u001b[0m",
      "\u001b[0;32m~/opt/anaconda/envs/p250/lib/python3.8/site-packages/scipy/linalg/basic.py\u001b[0m in \u001b[0;36msolve\u001b[0;34m(a, b, sym_pos, lower, overwrite_a, overwrite_b, debug, check_finite, assume_a, transposed)\u001b[0m\n\u001b[1;32m    148\u001b[0m         \u001b[0;31m# Last chance to catch 1x1 scalar a and 1-D b arrays\u001b[0m\u001b[0;34m\u001b[0m\u001b[0;34m\u001b[0m\u001b[0;34m\u001b[0m\u001b[0m\n\u001b[1;32m    149\u001b[0m         \u001b[0;32mif\u001b[0m \u001b[0;32mnot\u001b[0m \u001b[0;34m(\u001b[0m\u001b[0mn\u001b[0m \u001b[0;34m==\u001b[0m \u001b[0;36m1\u001b[0m \u001b[0;32mand\u001b[0m \u001b[0mb1\u001b[0m\u001b[0;34m.\u001b[0m\u001b[0msize\u001b[0m \u001b[0;34m!=\u001b[0m \u001b[0;36m0\u001b[0m\u001b[0;34m)\u001b[0m\u001b[0;34m:\u001b[0m\u001b[0;34m\u001b[0m\u001b[0;34m\u001b[0m\u001b[0m\n\u001b[0;32m--> 150\u001b[0;31m             raise ValueError('Input b has to have same number of rows as '\n\u001b[0m\u001b[1;32m    151\u001b[0m                              'input a')\n\u001b[1;32m    152\u001b[0m \u001b[0;34m\u001b[0m\u001b[0m\n",
      "\u001b[0;31mValueError\u001b[0m: Input b has to have same number of rows as input a"
     ]
    }
   ],
   "source": [
    "la.solve(A, b)"
   ]
  },
  {
   "cell_type": "markdown",
   "metadata": {},
   "source": [
    "We get a `ValueError` and even told that `b` should have the same number of *rows* as `A`, not the same number of columns.  This is easy to fix, just take the transpose of `b`.  There is shorthand for doing this as shown below."
   ]
  },
  {
   "cell_type": "code",
   "execution_count": 20,
   "metadata": {},
   "outputs": [
    {
     "name": "stdout",
     "output_type": "stream",
     "text": [
      "Original b:\n",
      " [[ -4.   1.   8.  -5.]\n",
      " [-10.   0.  -3. -24.]]\n",
      "Transpose of b:\n",
      " [[ -4. -10.]\n",
      " [  1.   0.]\n",
      " [  8.  -3.]\n",
      " [ -5. -24.]]\n"
     ]
    }
   ],
   "source": [
    "print(\"Original b:\\n\", b)\n",
    "print(\"Transpose of b:\\n\", b.T)"
   ]
  },
  {
   "cell_type": "markdown",
   "metadata": {},
   "source": [
    "With this we find:"
   ]
  },
  {
   "cell_type": "code",
   "execution_count": 21,
   "metadata": {},
   "outputs": [
    {
     "name": "stdout",
     "output_type": "stream",
     "text": [
      "scipy.linalg.solve:\n",
      " [[ 2. -1.]\n",
      " [-1.  1.]\n",
      " [ 4.  4.]\n",
      " [-5. -3.]]\n",
      "scipy.linalg.lu_solve:\n",
      " [[ 2. -1.]\n",
      " [-1.  1.]\n",
      " [ 4.  4.]\n",
      " [-5. -3.]]\n"
     ]
    }
   ],
   "source": [
    "print(\"scipy.linalg.solve:\\n\", la.solve(A, b.T))\n",
    "print(\"scipy.linalg.lu_solve:\\n\", la.lu_solve(lufactors, b.T))"
   ]
  },
  {
   "cell_type": "markdown",
   "metadata": {},
   "source": [
    "Each *column* of the result is the solution for each *column* in the array `b`."
   ]
  }
 ],
 "metadata": {
  "anaconda-cloud": {},
  "kernelspec": {
   "display_name": "Python 3",
   "language": "python",
   "name": "python3"
  },
  "language_info": {
   "codemirror_mode": {
    "name": "ipython",
    "version": 3
   },
   "file_extension": ".py",
   "mimetype": "text/x-python",
   "name": "python",
   "nbconvert_exporter": "python",
   "pygments_lexer": "ipython3",
   "version": "3.8.5"
  }
 },
 "nbformat": 4,
 "nbformat_minor": 4
}
