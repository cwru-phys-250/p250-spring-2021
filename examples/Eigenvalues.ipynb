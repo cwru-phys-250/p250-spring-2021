{
 "cells": [
  {
   "cell_type": "markdown",
   "metadata": {},
   "source": [
    "# Eigenvalues and Eigenvectors\n",
    "\n",
    "Here we will study various functions for finding eigenvalues and eigenvectors.  We will apply them to a few different types of matrices to better understand some of the claims made in class."
   ]
  },
  {
   "cell_type": "markdown",
   "metadata": {},
   "source": [
    "## Initialization"
   ]
  },
  {
   "cell_type": "code",
   "execution_count": 1,
   "metadata": {},
   "outputs": [],
   "source": [
    "import numpy as np\n",
    "import matplotlib.pyplot as plt\n",
    "%matplotlib inline\n",
    "import scipy.linalg as la"
   ]
  },
  {
   "cell_type": "markdown",
   "metadata": {},
   "source": [
    "In the `scipy.linalg` module there are a number of functions for solving eigenvalue problems.  These functions are roughly split into ones that only calculate the eigenvalues and ones that calculate both the eigenvalues and eigenvectors.  We will be interested in finding both the eigenvalues and eigenvectors so will focus on that set of functions."
   ]
  },
  {
   "cell_type": "code",
   "execution_count": 2,
   "metadata": {},
   "outputs": [
    {
     "data": {
      "text/plain": [
       "\u001b[0;31mType:\u001b[0m        module\n",
       "\u001b[0;31mString form:\u001b[0m <module 'scipy.linalg' from '/home/craig/opt/anaconda/envs/p250/lib/python3.8/site-packages/scipy/linalg/__init__.py'>\n",
       "\u001b[0;31mFile:\u001b[0m        ~/opt/anaconda/envs/p250/lib/python3.8/site-packages/scipy/linalg/__init__.py\n",
       "\u001b[0;31mDocstring:\u001b[0m  \n",
       "====================================\n",
       "Linear algebra (:mod:`scipy.linalg`)\n",
       "====================================\n",
       "\n",
       ".. currentmodule:: scipy.linalg\n",
       "\n",
       "Linear algebra functions.\n",
       "\n",
       ".. eventually, we should replace the numpy.linalg HTML link with just `numpy.linalg`\n",
       "\n",
       ".. seealso::\n",
       "\n",
       "   `numpy.linalg <https://www.numpy.org/devdocs/reference/routines.linalg.html>`__\n",
       "   for more linear algebra functions. Note that\n",
       "   although `scipy.linalg` imports most of them, identically named\n",
       "   functions from `scipy.linalg` may offer more or slightly differing\n",
       "   functionality.\n",
       "\n",
       "\n",
       "Basics\n",
       "======\n",
       "\n",
       ".. autosummary::\n",
       "   :toctree: generated/\n",
       "\n",
       "   inv - Find the inverse of a square matrix\n",
       "   solve - Solve a linear system of equations\n",
       "   solve_banded - Solve a banded linear system\n",
       "   solveh_banded - Solve a Hermitian or symmetric banded system\n",
       "   solve_circulant - Solve a circulant system\n",
       "   solve_triangular - Solve a triangular matrix\n",
       "   solve_toeplitz - Solve a toeplitz matrix\n",
       "   matmul_toeplitz - Multiply a Toeplitz matrix with an array.\n",
       "   det - Find the determinant of a square matrix\n",
       "   norm - Matrix and vector norm\n",
       "   lstsq - Solve a linear least-squares problem\n",
       "   pinv - Pseudo-inverse (Moore-Penrose) using lstsq\n",
       "   pinv2 - Pseudo-inverse using svd\n",
       "   pinvh - Pseudo-inverse of hermitian matrix\n",
       "   kron - Kronecker product of two arrays\n",
       "   khatri_rao - Khatri-Rao product of two arrays\n",
       "   tril - Construct a lower-triangular matrix from a given matrix\n",
       "   triu - Construct an upper-triangular matrix from a given matrix\n",
       "   orthogonal_procrustes - Solve an orthogonal Procrustes problem\n",
       "   matrix_balance - Balance matrix entries with a similarity transformation\n",
       "   subspace_angles - Compute the subspace angles between two matrices\n",
       "   LinAlgError\n",
       "   LinAlgWarning\n",
       "\n",
       "Eigenvalue Problems\n",
       "===================\n",
       "\n",
       ".. autosummary::\n",
       "   :toctree: generated/\n",
       "\n",
       "   eig - Find the eigenvalues and eigenvectors of a square matrix\n",
       "   eigvals - Find just the eigenvalues of a square matrix\n",
       "   eigh - Find the e-vals and e-vectors of a Hermitian or symmetric matrix\n",
       "   eigvalsh - Find just the eigenvalues of a Hermitian or symmetric matrix\n",
       "   eig_banded - Find the eigenvalues and eigenvectors of a banded matrix\n",
       "   eigvals_banded - Find just the eigenvalues of a banded matrix\n",
       "   eigh_tridiagonal - Find the eigenvalues and eigenvectors of a tridiagonal matrix\n",
       "   eigvalsh_tridiagonal - Find just the eigenvalues of a tridiagonal matrix\n",
       "\n",
       "Decompositions\n",
       "==============\n",
       "\n",
       ".. autosummary::\n",
       "   :toctree: generated/\n",
       "\n",
       "   lu - LU decomposition of a matrix\n",
       "   lu_factor - LU decomposition returning unordered matrix and pivots\n",
       "   lu_solve - Solve Ax=b using back substitution with output of lu_factor\n",
       "   svd - Singular value decomposition of a matrix\n",
       "   svdvals - Singular values of a matrix\n",
       "   diagsvd - Construct matrix of singular values from output of svd\n",
       "   orth - Construct orthonormal basis for the range of A using svd\n",
       "   null_space - Construct orthonormal basis for the null space of A using svd\n",
       "   ldl - LDL.T decomposition of a Hermitian or a symmetric matrix.\n",
       "   cholesky - Cholesky decomposition of a matrix\n",
       "   cholesky_banded - Cholesky decomp. of a sym. or Hermitian banded matrix\n",
       "   cho_factor - Cholesky decomposition for use in solving a linear system\n",
       "   cho_solve - Solve previously factored linear system\n",
       "   cho_solve_banded - Solve previously factored banded linear system\n",
       "   polar - Compute the polar decomposition.\n",
       "   qr - QR decomposition of a matrix\n",
       "   qr_multiply - QR decomposition and multiplication by Q\n",
       "   qr_update - Rank k QR update\n",
       "   qr_delete - QR downdate on row or column deletion\n",
       "   qr_insert - QR update on row or column insertion\n",
       "   rq - RQ decomposition of a matrix\n",
       "   qz - QZ decomposition of a pair of matrices\n",
       "   ordqz - QZ decomposition of a pair of matrices with reordering\n",
       "   schur - Schur decomposition of a matrix\n",
       "   rsf2csf - Real to complex Schur form\n",
       "   hessenberg - Hessenberg form of a matrix\n",
       "   cdf2rdf - Complex diagonal form to real diagonal block form\n",
       "   cossin - Cosine sine decomposition of a unitary or orthogonal matrix\n",
       "\n",
       ".. seealso::\n",
       "\n",
       "   `scipy.linalg.interpolative` -- Interpolative matrix decompositions\n",
       "\n",
       "\n",
       "Matrix Functions\n",
       "================\n",
       "\n",
       ".. autosummary::\n",
       "   :toctree: generated/\n",
       "\n",
       "   expm - Matrix exponential\n",
       "   logm - Matrix logarithm\n",
       "   cosm - Matrix cosine\n",
       "   sinm - Matrix sine\n",
       "   tanm - Matrix tangent\n",
       "   coshm - Matrix hyperbolic cosine\n",
       "   sinhm - Matrix hyperbolic sine\n",
       "   tanhm - Matrix hyperbolic tangent\n",
       "   signm - Matrix sign\n",
       "   sqrtm - Matrix square root\n",
       "   funm - Evaluating an arbitrary matrix function\n",
       "   expm_frechet - Frechet derivative of the matrix exponential\n",
       "   expm_cond - Relative condition number of expm in the Frobenius norm\n",
       "   fractional_matrix_power - Fractional matrix power\n",
       "\n",
       "\n",
       "Matrix Equation Solvers\n",
       "=======================\n",
       "\n",
       ".. autosummary::\n",
       "   :toctree: generated/\n",
       "\n",
       "   solve_sylvester - Solve the Sylvester matrix equation\n",
       "   solve_continuous_are - Solve the continuous-time algebraic Riccati equation\n",
       "   solve_discrete_are - Solve the discrete-time algebraic Riccati equation\n",
       "   solve_continuous_lyapunov - Solve the continuous-time Lyapunov equation\n",
       "   solve_discrete_lyapunov - Solve the discrete-time Lyapunov equation\n",
       "\n",
       "\n",
       "Sketches and Random Projections\n",
       "===============================\n",
       "\n",
       ".. autosummary::\n",
       "   :toctree: generated/\n",
       "\n",
       "   clarkson_woodruff_transform - Applies the Clarkson Woodruff Sketch (a.k.a CountMin Sketch)\n",
       "\n",
       "Special Matrices\n",
       "================\n",
       "\n",
       ".. autosummary::\n",
       "   :toctree: generated/\n",
       "\n",
       "   block_diag - Construct a block diagonal matrix from submatrices\n",
       "   circulant - Circulant matrix\n",
       "   companion - Companion matrix\n",
       "   convolution_matrix - Convolution matrix\n",
       "   dft - Discrete Fourier transform matrix\n",
       "   fiedler - Fiedler matrix\n",
       "   fiedler_companion - Fiedler companion matrix\n",
       "   hadamard - Hadamard matrix of order 2**n\n",
       "   hankel - Hankel matrix\n",
       "   helmert - Helmert matrix\n",
       "   hilbert - Hilbert matrix\n",
       "   invhilbert - Inverse Hilbert matrix\n",
       "   leslie - Leslie matrix\n",
       "   pascal - Pascal matrix\n",
       "   invpascal - Inverse Pascal matrix\n",
       "   toeplitz - Toeplitz matrix\n",
       "   tri - Construct a matrix filled with ones at and below a given diagonal\n",
       "\n",
       "Low-level routines\n",
       "==================\n",
       "\n",
       ".. autosummary::\n",
       "   :toctree: generated/\n",
       "\n",
       "   get_blas_funcs\n",
       "   get_lapack_funcs\n",
       "   find_best_blas_type\n",
       "\n",
       ".. seealso::\n",
       "\n",
       "   `scipy.linalg.blas` -- Low-level BLAS functions\n",
       "\n",
       "   `scipy.linalg.lapack` -- Low-level LAPACK functions\n",
       "\n",
       "   `scipy.linalg.cython_blas` -- Low-level BLAS functions for Cython\n",
       "\n",
       "   `scipy.linalg.cython_lapack` -- Low-level LAPACK functions for Cython\n"
      ]
     },
     "metadata": {},
     "output_type": "display_data"
    }
   ],
   "source": [
    "la?"
   ]
  },
  {
   "cell_type": "markdown",
   "metadata": {},
   "source": [
    "Also as always we should look at the documentation for any and all functions that interest us.  Here we look at a few.  In the prelab and lab we will explore the use of `eig_banded`."
   ]
  },
  {
   "cell_type": "code",
   "execution_count": 3,
   "metadata": {},
   "outputs": [
    {
     "data": {
      "text/plain": [
       "\u001b[0;31mSignature:\u001b[0m\n",
       "\u001b[0mla\u001b[0m\u001b[0;34m.\u001b[0m\u001b[0meig\u001b[0m\u001b[0;34m(\u001b[0m\u001b[0;34m\u001b[0m\n",
       "\u001b[0;34m\u001b[0m    \u001b[0ma\u001b[0m\u001b[0;34m,\u001b[0m\u001b[0;34m\u001b[0m\n",
       "\u001b[0;34m\u001b[0m    \u001b[0mb\u001b[0m\u001b[0;34m=\u001b[0m\u001b[0;32mNone\u001b[0m\u001b[0;34m,\u001b[0m\u001b[0;34m\u001b[0m\n",
       "\u001b[0;34m\u001b[0m    \u001b[0mleft\u001b[0m\u001b[0;34m=\u001b[0m\u001b[0;32mFalse\u001b[0m\u001b[0;34m,\u001b[0m\u001b[0;34m\u001b[0m\n",
       "\u001b[0;34m\u001b[0m    \u001b[0mright\u001b[0m\u001b[0;34m=\u001b[0m\u001b[0;32mTrue\u001b[0m\u001b[0;34m,\u001b[0m\u001b[0;34m\u001b[0m\n",
       "\u001b[0;34m\u001b[0m    \u001b[0moverwrite_a\u001b[0m\u001b[0;34m=\u001b[0m\u001b[0;32mFalse\u001b[0m\u001b[0;34m,\u001b[0m\u001b[0;34m\u001b[0m\n",
       "\u001b[0;34m\u001b[0m    \u001b[0moverwrite_b\u001b[0m\u001b[0;34m=\u001b[0m\u001b[0;32mFalse\u001b[0m\u001b[0;34m,\u001b[0m\u001b[0;34m\u001b[0m\n",
       "\u001b[0;34m\u001b[0m    \u001b[0mcheck_finite\u001b[0m\u001b[0;34m=\u001b[0m\u001b[0;32mTrue\u001b[0m\u001b[0;34m,\u001b[0m\u001b[0;34m\u001b[0m\n",
       "\u001b[0;34m\u001b[0m    \u001b[0mhomogeneous_eigvals\u001b[0m\u001b[0;34m=\u001b[0m\u001b[0;32mFalse\u001b[0m\u001b[0;34m,\u001b[0m\u001b[0;34m\u001b[0m\n",
       "\u001b[0;34m\u001b[0m\u001b[0;34m)\u001b[0m\u001b[0;34m\u001b[0m\u001b[0;34m\u001b[0m\u001b[0m\n",
       "\u001b[0;31mDocstring:\u001b[0m\n",
       "Solve an ordinary or generalized eigenvalue problem of a square matrix.\n",
       "\n",
       "Find eigenvalues w and right or left eigenvectors of a general matrix::\n",
       "\n",
       "    a   vr[:,i] = w[i]        b   vr[:,i]\n",
       "    a.H vl[:,i] = w[i].conj() b.H vl[:,i]\n",
       "\n",
       "where ``.H`` is the Hermitian conjugation.\n",
       "\n",
       "Parameters\n",
       "----------\n",
       "a : (M, M) array_like\n",
       "    A complex or real matrix whose eigenvalues and eigenvectors\n",
       "    will be computed.\n",
       "b : (M, M) array_like, optional\n",
       "    Right-hand side matrix in a generalized eigenvalue problem.\n",
       "    Default is None, identity matrix is assumed.\n",
       "left : bool, optional\n",
       "    Whether to calculate and return left eigenvectors.  Default is False.\n",
       "right : bool, optional\n",
       "    Whether to calculate and return right eigenvectors.  Default is True.\n",
       "overwrite_a : bool, optional\n",
       "    Whether to overwrite `a`; may improve performance.  Default is False.\n",
       "overwrite_b : bool, optional\n",
       "    Whether to overwrite `b`; may improve performance.  Default is False.\n",
       "check_finite : bool, optional\n",
       "    Whether to check that the input matrices contain only finite numbers.\n",
       "    Disabling may give a performance gain, but may result in problems\n",
       "    (crashes, non-termination) if the inputs do contain infinities or NaNs.\n",
       "homogeneous_eigvals : bool, optional\n",
       "    If True, return the eigenvalues in homogeneous coordinates.\n",
       "    In this case ``w`` is a (2, M) array so that::\n",
       "\n",
       "        w[1,i] a vr[:,i] = w[0,i] b vr[:,i]\n",
       "\n",
       "    Default is False.\n",
       "\n",
       "Returns\n",
       "-------\n",
       "w : (M,) or (2, M) double or complex ndarray\n",
       "    The eigenvalues, each repeated according to its\n",
       "    multiplicity. The shape is (M,) unless\n",
       "    ``homogeneous_eigvals=True``.\n",
       "vl : (M, M) double or complex ndarray\n",
       "    The normalized left eigenvector corresponding to the eigenvalue\n",
       "    ``w[i]`` is the column vl[:,i]. Only returned if ``left=True``.\n",
       "vr : (M, M) double or complex ndarray\n",
       "    The normalized right eigenvector corresponding to the eigenvalue\n",
       "    ``w[i]`` is the column ``vr[:,i]``.  Only returned if ``right=True``.\n",
       "\n",
       "Raises\n",
       "------\n",
       "LinAlgError\n",
       "    If eigenvalue computation does not converge.\n",
       "\n",
       "See Also\n",
       "--------\n",
       "eigvals : eigenvalues of general arrays\n",
       "eigh : Eigenvalues and right eigenvectors for symmetric/Hermitian arrays.\n",
       "eig_banded : eigenvalues and right eigenvectors for symmetric/Hermitian\n",
       "    band matrices\n",
       "eigh_tridiagonal : eigenvalues and right eiegenvectors for\n",
       "    symmetric/Hermitian tridiagonal matrices\n",
       "\n",
       "Examples\n",
       "--------\n",
       ">>> from scipy import linalg\n",
       ">>> a = np.array([[0., -1.], [1., 0.]])\n",
       ">>> linalg.eigvals(a)\n",
       "array([0.+1.j, 0.-1.j])\n",
       "\n",
       ">>> b = np.array([[0., 1.], [1., 1.]])\n",
       ">>> linalg.eigvals(a, b)\n",
       "array([ 1.+0.j, -1.+0.j])\n",
       "\n",
       ">>> a = np.array([[3., 0., 0.], [0., 8., 0.], [0., 0., 7.]])\n",
       ">>> linalg.eigvals(a, homogeneous_eigvals=True)\n",
       "array([[3.+0.j, 8.+0.j, 7.+0.j],\n",
       "       [1.+0.j, 1.+0.j, 1.+0.j]])\n",
       "\n",
       ">>> a = np.array([[0., -1.], [1., 0.]])\n",
       ">>> linalg.eigvals(a) == linalg.eig(a)[0]\n",
       "array([ True,  True])\n",
       ">>> linalg.eig(a, left=True, right=False)[1] # normalized left eigenvector\n",
       "array([[-0.70710678+0.j        , -0.70710678-0.j        ],\n",
       "       [-0.        +0.70710678j, -0.        -0.70710678j]])\n",
       ">>> linalg.eig(a, left=False, right=True)[1] # normalized right eigenvector\n",
       "array([[0.70710678+0.j        , 0.70710678-0.j        ],\n",
       "       [0.        -0.70710678j, 0.        +0.70710678j]])\n",
       "\u001b[0;31mFile:\u001b[0m      ~/opt/anaconda/envs/p250/lib/python3.8/site-packages/scipy/linalg/decomp.py\n",
       "\u001b[0;31mType:\u001b[0m      function\n"
      ]
     },
     "metadata": {},
     "output_type": "display_data"
    }
   ],
   "source": [
    "la.eig?"
   ]
  },
  {
   "cell_type": "code",
   "execution_count": 4,
   "metadata": {},
   "outputs": [
    {
     "data": {
      "text/plain": [
       "\u001b[0;31mSignature:\u001b[0m\n",
       "\u001b[0mla\u001b[0m\u001b[0;34m.\u001b[0m\u001b[0meigh\u001b[0m\u001b[0;34m(\u001b[0m\u001b[0;34m\u001b[0m\n",
       "\u001b[0;34m\u001b[0m    \u001b[0ma\u001b[0m\u001b[0;34m,\u001b[0m\u001b[0;34m\u001b[0m\n",
       "\u001b[0;34m\u001b[0m    \u001b[0mb\u001b[0m\u001b[0;34m=\u001b[0m\u001b[0;32mNone\u001b[0m\u001b[0;34m,\u001b[0m\u001b[0;34m\u001b[0m\n",
       "\u001b[0;34m\u001b[0m    \u001b[0mlower\u001b[0m\u001b[0;34m=\u001b[0m\u001b[0;32mTrue\u001b[0m\u001b[0;34m,\u001b[0m\u001b[0;34m\u001b[0m\n",
       "\u001b[0;34m\u001b[0m    \u001b[0meigvals_only\u001b[0m\u001b[0;34m=\u001b[0m\u001b[0;32mFalse\u001b[0m\u001b[0;34m,\u001b[0m\u001b[0;34m\u001b[0m\n",
       "\u001b[0;34m\u001b[0m    \u001b[0moverwrite_a\u001b[0m\u001b[0;34m=\u001b[0m\u001b[0;32mFalse\u001b[0m\u001b[0;34m,\u001b[0m\u001b[0;34m\u001b[0m\n",
       "\u001b[0;34m\u001b[0m    \u001b[0moverwrite_b\u001b[0m\u001b[0;34m=\u001b[0m\u001b[0;32mFalse\u001b[0m\u001b[0;34m,\u001b[0m\u001b[0;34m\u001b[0m\n",
       "\u001b[0;34m\u001b[0m    \u001b[0mturbo\u001b[0m\u001b[0;34m=\u001b[0m\u001b[0;32mTrue\u001b[0m\u001b[0;34m,\u001b[0m\u001b[0;34m\u001b[0m\n",
       "\u001b[0;34m\u001b[0m    \u001b[0meigvals\u001b[0m\u001b[0;34m=\u001b[0m\u001b[0;32mNone\u001b[0m\u001b[0;34m,\u001b[0m\u001b[0;34m\u001b[0m\n",
       "\u001b[0;34m\u001b[0m    \u001b[0mtype\u001b[0m\u001b[0;34m=\u001b[0m\u001b[0;36m1\u001b[0m\u001b[0;34m,\u001b[0m\u001b[0;34m\u001b[0m\n",
       "\u001b[0;34m\u001b[0m    \u001b[0mcheck_finite\u001b[0m\u001b[0;34m=\u001b[0m\u001b[0;32mTrue\u001b[0m\u001b[0;34m,\u001b[0m\u001b[0;34m\u001b[0m\n",
       "\u001b[0;34m\u001b[0m    \u001b[0msubset_by_index\u001b[0m\u001b[0;34m=\u001b[0m\u001b[0;32mNone\u001b[0m\u001b[0;34m,\u001b[0m\u001b[0;34m\u001b[0m\n",
       "\u001b[0;34m\u001b[0m    \u001b[0msubset_by_value\u001b[0m\u001b[0;34m=\u001b[0m\u001b[0;32mNone\u001b[0m\u001b[0;34m,\u001b[0m\u001b[0;34m\u001b[0m\n",
       "\u001b[0;34m\u001b[0m    \u001b[0mdriver\u001b[0m\u001b[0;34m=\u001b[0m\u001b[0;32mNone\u001b[0m\u001b[0;34m,\u001b[0m\u001b[0;34m\u001b[0m\n",
       "\u001b[0;34m\u001b[0m\u001b[0;34m)\u001b[0m\u001b[0;34m\u001b[0m\u001b[0;34m\u001b[0m\u001b[0m\n",
       "\u001b[0;31mDocstring:\u001b[0m\n",
       "Solve a standard or generalized eigenvalue problem for a complex\n",
       "Hermitian or real symmetric matrix.\n",
       "\n",
       "Find eigenvalues array ``w`` and optionally eigenvectors array ``v`` of\n",
       "array ``a``, where ``b`` is positive definite such that for every\n",
       "eigenvalue λ (i-th entry of w) and its eigenvector ``vi`` (i-th column of\n",
       "``v``) satisfies::\n",
       "\n",
       "                  a @ vi = λ * b @ vi\n",
       "    vi.conj().T @ a @ vi = λ\n",
       "    vi.conj().T @ b @ vi = 1\n",
       "\n",
       "In the standard problem, ``b`` is assumed to be the identity matrix.\n",
       "\n",
       "Parameters\n",
       "----------\n",
       "a : (M, M) array_like\n",
       "    A complex Hermitian or real symmetric matrix whose eigenvalues and\n",
       "    eigenvectors will be computed.\n",
       "b : (M, M) array_like, optional\n",
       "    A complex Hermitian or real symmetric definite positive matrix in.\n",
       "    If omitted, identity matrix is assumed.\n",
       "lower : bool, optional\n",
       "    Whether the pertinent array data is taken from the lower or upper\n",
       "    triangle of ``a`` and, if applicable, ``b``. (Default: lower)\n",
       "eigvals_only : bool, optional\n",
       "    Whether to calculate only eigenvalues and no eigenvectors.\n",
       "    (Default: both are calculated)\n",
       "subset_by_index : iterable, optional\n",
       "    If provided, this two-element iterable defines the start and the end\n",
       "    indices of the desired eigenvalues (ascending order and 0-indexed).\n",
       "    To return only the second smallest to fifth smallest eigenvalues,\n",
       "    ``[1, 4]`` is used. ``[n-3, n-1]`` returns the largest three. Only\n",
       "    available with \"evr\", \"evx\", and \"gvx\" drivers. The entries are\n",
       "    directly converted to integers via ``int()``.\n",
       "subset_by_value : iterable, optional\n",
       "    If provided, this two-element iterable defines the half-open interval\n",
       "    ``(a, b]`` that, if any, only the eigenvalues between these values\n",
       "    are returned. Only available with \"evr\", \"evx\", and \"gvx\" drivers. Use\n",
       "    ``np.inf`` for the unconstrained ends.\n",
       "driver: str, optional\n",
       "    Defines which LAPACK driver should be used. Valid options are \"ev\",\n",
       "    \"evd\", \"evr\", \"evx\" for standard problems and \"gv\", \"gvd\", \"gvx\" for\n",
       "    generalized (where b is not None) problems. See the Notes section.\n",
       "type : int, optional\n",
       "    For the generalized problems, this keyword specifies the problem type\n",
       "    to be solved for ``w`` and ``v`` (only takes 1, 2, 3 as possible\n",
       "    inputs)::\n",
       "\n",
       "        1 =>     a @ v = w @ b @ v\n",
       "        2 => a @ b @ v = w @ v\n",
       "        3 => b @ a @ v = w @ v\n",
       "\n",
       "    This keyword is ignored for standard problems.\n",
       "overwrite_a : bool, optional\n",
       "    Whether to overwrite data in ``a`` (may improve performance). Default\n",
       "    is False.\n",
       "overwrite_b : bool, optional\n",
       "    Whether to overwrite data in ``b`` (may improve performance). Default\n",
       "    is False.\n",
       "check_finite : bool, optional\n",
       "    Whether to check that the input matrices contain only finite numbers.\n",
       "    Disabling may give a performance gain, but may result in problems\n",
       "    (crashes, non-termination) if the inputs do contain infinities or NaNs.\n",
       "turbo : bool, optional\n",
       "    *Deprecated since v1.5.0, use ``driver=gvd`` keyword instead*.\n",
       "    Use divide and conquer algorithm (faster but expensive in memory, only\n",
       "    for generalized eigenvalue problem and if full set of eigenvalues are\n",
       "    requested.). Has no significant effect if eigenvectors are not\n",
       "    requested.\n",
       "eigvals : tuple (lo, hi), optional\n",
       "    *Deprecated since v1.5.0, use ``subset_by_index`` keyword instead*.\n",
       "    Indexes of the smallest and largest (in ascending order) eigenvalues\n",
       "    and corresponding eigenvectors to be returned: 0 <= lo <= hi <= M-1.\n",
       "    If omitted, all eigenvalues and eigenvectors are returned.\n",
       "\n",
       "Returns\n",
       "-------\n",
       "w : (N,) ndarray\n",
       "    The N (1<=N<=M) selected eigenvalues, in ascending order, each\n",
       "    repeated according to its multiplicity.\n",
       "v : (M, N) ndarray\n",
       "    (if ``eigvals_only == False``)\n",
       "\n",
       "Raises\n",
       "------\n",
       "LinAlgError\n",
       "    If eigenvalue computation does not converge, an error occurred, or\n",
       "    b matrix is not definite positive. Note that if input matrices are\n",
       "    not symmetric or Hermitian, no error will be reported but results will\n",
       "    be wrong.\n",
       "\n",
       "See Also\n",
       "--------\n",
       "eigvalsh : eigenvalues of symmetric or Hermitian arrays\n",
       "eig : eigenvalues and right eigenvectors for non-symmetric arrays\n",
       "eigh_tridiagonal : eigenvalues and right eiegenvectors for\n",
       "    symmetric/Hermitian tridiagonal matrices\n",
       "\n",
       "Notes\n",
       "-----\n",
       "This function does not check the input array for being Hermitian/symmetric\n",
       "in order to allow for representing arrays with only their upper/lower\n",
       "triangular parts. Also, note that even though not taken into account,\n",
       "finiteness check applies to the whole array and unaffected by \"lower\"\n",
       "keyword.\n",
       "\n",
       "This function uses LAPACK drivers for computations in all possible keyword\n",
       "combinations, prefixed with ``sy`` if arrays are real and ``he`` if\n",
       "complex, e.g., a float array with \"evr\" driver is solved via\n",
       "\"syevr\", complex arrays with \"gvx\" driver problem is solved via \"hegvx\"\n",
       "etc.\n",
       "\n",
       "As a brief summary, the slowest and the most robust driver is the\n",
       "classical ``<sy/he>ev`` which uses symmetric QR. ``<sy/he>evr`` is seen as\n",
       "the optimal choice for the most general cases. However, there are certain\n",
       "occasions that ``<sy/he>evd`` computes faster at the expense of more\n",
       "memory usage. ``<sy/he>evx``, while still being faster than ``<sy/he>ev``,\n",
       "often performs worse than the rest except when very few eigenvalues are\n",
       "requested for large arrays though there is still no performance guarantee.\n",
       "\n",
       "\n",
       "For the generalized problem, normalization with respect to the given\n",
       "type argument::\n",
       "\n",
       "        type 1 and 3 :      v.conj().T @ a @ v = w\n",
       "        type 2       : inv(v).conj().T @ a @ inv(v) = w\n",
       "\n",
       "        type 1 or 2  :      v.conj().T @ b @ v  = I\n",
       "        type 3       : v.conj().T @ inv(b) @ v  = I\n",
       "\n",
       "\n",
       "Examples\n",
       "--------\n",
       ">>> from scipy.linalg import eigh\n",
       ">>> A = np.array([[6, 3, 1, 5], [3, 0, 5, 1], [1, 5, 6, 2], [5, 1, 2, 2]])\n",
       ">>> w, v = eigh(A)\n",
       ">>> np.allclose(A @ v - v @ np.diag(w), np.zeros((4, 4)))\n",
       "True\n",
       "\n",
       "Request only the eigenvalues\n",
       "\n",
       ">>> w = eigh(A, eigvals_only=True)\n",
       "\n",
       "Request eigenvalues that are less than 10.\n",
       "\n",
       ">>> A = np.array([[34, -4, -10, -7, 2],\n",
       "...               [-4, 7, 2, 12, 0],\n",
       "...               [-10, 2, 44, 2, -19],\n",
       "...               [-7, 12, 2, 79, -34],\n",
       "...               [2, 0, -19, -34, 29]])\n",
       ">>> eigh(A, eigvals_only=True, subset_by_value=[-np.inf, 10])\n",
       "array([6.69199443e-07, 9.11938152e+00])\n",
       "\n",
       "Request the largest second eigenvalue and its eigenvector\n",
       "\n",
       ">>> w, v = eigh(A, subset_by_index=[1, 1])\n",
       ">>> w\n",
       "array([9.11938152])\n",
       ">>> v.shape  # only a single column is returned\n",
       "(5, 1)\n",
       "\u001b[0;31mFile:\u001b[0m      ~/opt/anaconda/envs/p250/lib/python3.8/site-packages/scipy/linalg/decomp.py\n",
       "\u001b[0;31mType:\u001b[0m      function\n"
      ]
     },
     "metadata": {},
     "output_type": "display_data"
    }
   ],
   "source": [
    "la.eigh?"
   ]
  },
  {
   "cell_type": "markdown",
   "metadata": {},
   "source": [
    "## Sample Matrix\n",
    "\n",
    "Let us use the matrix from the system of linear equations we solved last week.  Recall that for this system\n",
    "$$\n",
    "\\mathsf{A} = \\begin{pmatrix}\n",
    "10 & -7 & 1 \\\\\n",
    "-3 & 2 & 6 \\\\\n",
    "5 & -1 & 5\n",
    "\\end{pmatrix} . $$\n",
    "We can find the eigenvalues and eigenvectors for this matrix."
   ]
  },
  {
   "cell_type": "code",
   "execution_count": 5,
   "metadata": {},
   "outputs": [
    {
     "name": "stdout",
     "output_type": "stream",
     "text": [
      "Eigenvalues: [-1.74671985+0.j          9.37335992+2.21029215j  9.37335992-2.21029215j]\n",
      "Matrix of eigenvectors:\n",
      " [[ 0.51077299+0.j         -0.68330542+0.j         -0.68330542-0.j        ]\n",
      " [ 0.82042522+0.j         -0.14949126+0.25215869j -0.14949126-0.25215869j]\n",
      " [-0.25693074+0.j         -0.61825225+0.25480624j -0.61825225-0.25480624j]]\n"
     ]
    }
   ],
   "source": [
    "A = np.array([ [10, -7, 1.], [-3, 2, 6], [5, -1, 5] ])\n",
    "(lam, B) = la.eig(A)\n",
    "print(\"Eigenvalues:\", lam)\n",
    "print(\"Matrix of eigenvectors:\\n\", B)"
   ]
  },
  {
   "cell_type": "markdown",
   "metadata": {},
   "source": [
    "First notice that the eigenvalues and eigenvectors can be complex even for a real matrix.  NumPy for some reason has chosen to use the (electrical) engineering notation for complex numbers, $\\mathrm{j}\\equiv\\sqrt{-1}$ so complex numbers are of the form $x=\\alpha+\\beta\\mathrm{j}$ and represented in Python as \n",
    "```\n",
    "x = alpha + beta*1j\n",
    "```\n",
    "(notice the `1j`).\n",
    "\n",
    "Next, the columns in the matrix returned, called `B` here, represent each of the eigenvectors.  These are normalized to have unit magnitude."
   ]
  },
  {
   "cell_type": "code",
   "execution_count": 6,
   "metadata": {},
   "outputs": [
    {
     "name": "stdout",
     "output_type": "stream",
     "text": [
      "[1. 1. 1.]\n"
     ]
    }
   ],
   "source": [
    "print(np.sqrt(np.sum(np.abs(B)**2, axis=0)))"
   ]
  },
  {
   "cell_type": "markdown",
   "metadata": {},
   "source": [
    "This matrix also diagonalizes $\\mathsf{A}$, so that\n",
    "$$ \\mathsf{B}^{-1}\\mathsf{A}\\mathsf{B} = \\left( \\begin{array}{ccc}\n",
    "\\lambda_1 & 0 & 0 \\\\\n",
    "0 & \\lambda_2 & 0 \\\\\n",
    "0 & 0 & \\lambda_3\n",
    "\\end{array} \\right). $$\n",
    "We can verify this.  To compare the results we can either extract the diagonal from the result or construct a diagonal matrix from the eigenvalues, both are accomplished using the `np.diag` function."
   ]
  },
  {
   "cell_type": "code",
   "execution_count": 7,
   "metadata": {},
   "outputs": [
    {
     "name": "stdout",
     "output_type": "stream",
     "text": [
      "Binv A B =\n",
      " [[-1.74671985e+00+8.62816615e-32j  5.88418203e-15-2.66453526e-15j\n",
      "   6.10622664e-15+1.88737914e-15j]\n",
      " [ 4.21884749e-15-1.06581410e-14j  9.37335992e+00+2.21029215e+00j\n",
      "  -2.22044605e-15-2.66453526e-15j]\n",
      " [ 4.08006962e-15+1.06581410e-14j -2.66453526e-15+2.66453526e-15j\n",
      "   9.37335992e+00-2.21029215e+00j]]\n",
      "Matrix of eigenvalues? True\n"
     ]
    }
   ],
   "source": [
    "D = la.inv(B) @ A @ B\n",
    "print(\"Binv A B =\\n\", D)\n",
    "print(\"Matrix of eigenvalues?\", np.allclose(D, np.diag(lam)))"
   ]
  },
  {
   "cell_type": "markdown",
   "metadata": {},
   "source": [
    "Finally, the determinant of the matrix should be the product of the eigenvalues.  The determinant of a real matrix is real, the product of the eigenvalues may have a small imaginary part due to finite precision."
   ]
  },
  {
   "cell_type": "code",
   "execution_count": 8,
   "metadata": {},
   "outputs": [
    {
     "name": "stdout",
     "output_type": "stream",
     "text": [
      "Determinant = -162.00000000000003\n",
      "Product of eigenvalues = (-161.99999999999983+0j)\n"
     ]
    }
   ],
   "source": [
    "print(\"Determinant =\", la.det(A))\n",
    "print(\"Product of eigenvalues =\", np.prod(lam))"
   ]
  },
  {
   "cell_type": "markdown",
   "metadata": {},
   "source": [
    "## Symmetric Matrix\n",
    "\n",
    "Next consider the symmetric matrix we studied in class,\n",
    "$$ \\mathsf{A} = \\begin{pmatrix}\n",
    "5 & 0 & \\sqrt 3 \\\\\n",
    "0 & 1 & 0 \\\\\n",
    "\\sqrt 3 & 0 & 3\n",
    "\\end{pmatrix}. $$\n",
    "We will verify the results found in class.\n",
    "\n",
    "The eigenvalues and eigenvectors are calculated as above."
   ]
  },
  {
   "cell_type": "code",
   "execution_count": 9,
   "metadata": {},
   "outputs": [
    {
     "name": "stdout",
     "output_type": "stream",
     "text": [
      "Eigenvalues: [6.+0.j 2.+0.j 1.+0.j]\n",
      "Matrix of eigenvectors:\n",
      " [[ 0.8660254 -0.5        0.       ]\n",
      " [ 0.         0.         1.       ]\n",
      " [ 0.5        0.8660254  0.       ]]\n"
     ]
    }
   ],
   "source": [
    "A = np.array([ [5., 0, np.sqrt(3)], [0, 1, 0], [np.sqrt(3), 0, 3] ])\n",
    "(lam, B) = la.eig(A)\n",
    "print(\"Eigenvalues:\", lam)\n",
    "print(\"Matrix of eigenvectors:\\n\", B)"
   ]
  },
  {
   "cell_type": "markdown",
   "metadata": {},
   "source": [
    "Notice that the eigenvalues and eigenvectors for a symmetric (or hermitian) matrix are real.  For a such matrix we could instead use the specialized function `scipy.linalg.eigh`."
   ]
  },
  {
   "cell_type": "code",
   "execution_count": 10,
   "metadata": {},
   "outputs": [
    {
     "name": "stdout",
     "output_type": "stream",
     "text": [
      "Eigenvalues: [1. 2. 6.]\n",
      "Matrix of eigenvectors:\n",
      " [[ 0.         0.5        0.8660254]\n",
      " [-1.         0.         0.       ]\n",
      " [ 0.        -0.8660254  0.5      ]]\n"
     ]
    }
   ],
   "source": [
    "(lam, B) = la.eigh(A)\n",
    "print(\"Eigenvalues:\", lam)\n",
    "print(\"Matrix of eigenvectors:\\n\", B)"
   ]
  },
  {
   "cell_type": "markdown",
   "metadata": {},
   "source": [
    "**The order of the results has changed!** Besides returning the eigenvalues as real numbers, instead of complex numbers with zero imaginary part, the order in which they are returned has changed.  Here `eigh` chooses to sort the eigenvalues from smallest to largest.  This means the eigenvectors must also change order since each eigenvector is associated with a particular eigenvalue.  Of course the order cannot matter, but the order of the eigenvalues and eigenvectors must be consistent.  Also notice that the sign of some of the eigenvectors has changed.  In the eigenvalue problem, $\\mathsf{A}\\vec{v} = \\lambda \\vec{v}$ if $\\vec{v}$ is an eigenvector then so is $-\\vec{v}$.  Again, the choice of sign is arbitrary.  We see that different algorithms make different choices even for the same matrix.\n",
    "\n",
    "For a symmetric matrix the matrix of eigenvectors is orthogonal.  This means that $\\mathsf{B}^T=\\mathsf{B}^{-1}$, so the inverse is trivial to calculate.  We can test this in a few ways as shown below."
   ]
  },
  {
   "cell_type": "code",
   "execution_count": 11,
   "metadata": {},
   "outputs": [
    {
     "name": "stdout",
     "output_type": "stream",
     "text": [
      "B^T = Binv? True\n",
      "B^T B = I? True\n",
      "B B^T = I? True\n"
     ]
    }
   ],
   "source": [
    "print(\"B^T = Binv?\", np.allclose(B.T, la.inv(B)))\n",
    "print(\"B^T B = I?\", np.allclose(B.T @ B, np.identity(B.shape[0])))\n",
    "print(\"B B^T = I?\", np.allclose(B @ B.T, np.identity(B.shape[0])))"
   ]
  },
  {
   "cell_type": "markdown",
   "metadata": {},
   "source": [
    "We can also verify that $\\mathsf{B}$ diagonalizes $\\mathsf{A}$.  Since $\\mathsf{B}$ is orthogonal we now can write this more simply as\n",
    "$$ \\mathsf{B}^T \\mathsf{A}\\mathsf{B} = \\begin{pmatrix}\n",
    "\\lambda_1 & 0 & 0 \\\\\n",
    "0 & \\lambda_2 & 0 \\\\\n",
    "0 & 0 & \\lambda_3\n",
    "\\end{pmatrix}. $$"
   ]
  },
  {
   "cell_type": "code",
   "execution_count": 12,
   "metadata": {},
   "outputs": [
    {
     "name": "stdout",
     "output_type": "stream",
     "text": [
      "B^T A B =\n",
      " [[ 1.00000000e+00  0.00000000e+00  0.00000000e+00]\n",
      " [ 0.00000000e+00  2.00000000e+00  2.97483363e-17]\n",
      " [ 0.00000000e+00 -1.11022302e-16  6.00000000e+00]]\n",
      "Matrix of eigenvalues? True\n"
     ]
    }
   ],
   "source": [
    "D = B.T @ A @ B\n",
    "print(\"B^T A B =\\n\", D)\n",
    "print(\"Matrix of eigenvalues?\", np.allclose(D, np.diag(lam)))"
   ]
  },
  {
   "cell_type": "markdown",
   "metadata": {},
   "source": [
    "## Degenerate Eigenvalues\n",
    "\n",
    "The eigenvalues do not need to be distinct.  If two or more eigenvalues are equal they are called degenerate.  The eigenvectors associated with these eigenvalues are not unique: any linear combination of them will also satisfy the eigenvalue problem.  To see this let us consider a different symmetric matrix,\n",
    "$$ \\mathsf{A} = \\begin{pmatrix}\n",
    "5 & 0 & 2 \\\\\n",
    "0 & 1 & 0 \\\\\n",
    "2 & 0 & 2\n",
    "\\end{pmatrix}. $$"
   ]
  },
  {
   "cell_type": "code",
   "execution_count": 13,
   "metadata": {},
   "outputs": [
    {
     "name": "stdout",
     "output_type": "stream",
     "text": [
      "Eigenvalues: [1. 1. 6.]\n",
      "Matrix of eigenvectors:\n",
      " [[ 0.          0.4472136   0.89442719]\n",
      " [-1.          0.          0.        ]\n",
      " [ 0.         -0.89442719  0.4472136 ]]\n"
     ]
    }
   ],
   "source": [
    "A = np.array([ [5., 0, 2], [0, 1, 0], [2, 0, 2] ])\n",
    "(lam, B) = la.eigh(A)\n",
    "print(\"Eigenvalues:\", lam)\n",
    "print(\"Matrix of eigenvectors:\\n\", B)"
   ]
  },
  {
   "cell_type": "markdown",
   "metadata": {},
   "source": [
    "Notice that the eigenvalue `1` appears twice.  We can perform all the same tests from above to confirm that we have correctly solved the eigenvalue problem."
   ]
  },
  {
   "cell_type": "code",
   "execution_count": 14,
   "metadata": {},
   "outputs": [
    {
     "name": "stdout",
     "output_type": "stream",
     "text": [
      "B^T = Binv? True\n",
      "B^T B = I? True\n",
      "B B^T = I? True\n",
      "B^T A B =\n",
      " [[1.00000000e+00 0.00000000e+00 0.00000000e+00]\n",
      " [0.00000000e+00 1.00000000e+00 1.19692947e-15]\n",
      " [0.00000000e+00 6.78144704e-16 6.00000000e+00]]\n",
      "Matrix of eigenvalues? True\n"
     ]
    }
   ],
   "source": [
    "print(\"B^T = Binv?\", np.allclose(B.T, la.inv(B)))\n",
    "print(\"B^T B = I?\", np.allclose(B.T @ B, np.identity(B.shape[0])))\n",
    "print(\"B B^T = I?\", np.allclose(B @ B.T, np.identity(B.shape[0])))\n",
    "D = B.T @ A @ B\n",
    "print(\"B^T A B =\\n\", D)\n",
    "print(\"Matrix of eigenvalues?\", np.allclose(D, np.diag(lam)))"
   ]
  },
  {
   "cell_type": "markdown",
   "metadata": {},
   "source": [
    "These eigenvectors are not unique.  If we call the eigenvectors found above $\\vec v_0$, $\\vec v_1$, and $\\vec v_2$ then due to the degeneracy we can construct another set of vectors by taking any linear combinations of the first two.  (In practice we typically want the eigenvectors to be orthogonal so we should ensure this is true in our new set of eigenvectors.)  For example, we can construct a new set as\n",
    "$$\n",
    "\\begin{align}\n",
    "\\vec v_0' &= \\frac1{\\sqrt 6}\\vec v_0 - \\sqrt{\\frac{5}{6}} \\vec v_1, \\\\\n",
    "\\vec v_1' &= \\sqrt{\\frac{5}{6}}\\vec v_0 + \\frac1{\\sqrt 6} \\vec v_1, \\\\\n",
    "\\vec v_2' &= \\vec v_2.\n",
    "\\end{align}$$\n",
    "Here $\\vec v_2'$ is the same as above, but the first two are different.  We can verify this is also a valid set using the same tests as above."
   ]
  },
  {
   "cell_type": "code",
   "execution_count": 15,
   "metadata": {},
   "outputs": [
    {
     "name": "stdout",
     "output_type": "stream",
     "text": [
      "Alternate B =\n",
      " [[-0.40824829  0.18257419  0.89442719]\n",
      " [-0.40824829 -0.91287093  0.        ]\n",
      " [ 0.81649658 -0.36514837  0.4472136 ]]\n",
      "B^T = Binv? True\n",
      "B^T B = I? True\n",
      "B B^T = I? True\n",
      "B^T A B =\n",
      " [[ 1.00000000e+00  5.73807731e-17 -1.14964814e-15]\n",
      " [ 7.65209819e-17  1.00000000e+00  5.34720368e-16]\n",
      " [-9.91374242e-16  3.83317957e-16  6.00000000e+00]]\n",
      "Matrix of eigenvalues? True\n"
     ]
    }
   ],
   "source": [
    "Bp = np.zeros_like(B)\n",
    "Bp[:,0] = 1/np.sqrt(6)*B[:,0] - np.sqrt(5./6)*B[:,1]\n",
    "Bp[:,1] = np.sqrt(5./6)*B[:,0] + np.sqrt(1./6)*B[:,1]\n",
    "Bp[:,2] = B[:,2]\n",
    "print(\"Alternate B =\\n\", Bp)\n",
    "print(\"B^T = Binv?\", np.allclose(Bp.T, la.inv(Bp)))\n",
    "print(\"B^T B = I?\", np.allclose(Bp.T @ Bp, np.identity(Bp.shape[0])))\n",
    "print(\"B B^T = I?\", np.allclose(Bp @ Bp.T, np.identity(Bp.shape[0])))\n",
    "D = Bp.T @ A @ Bp\n",
    "print(\"B^T A B =\\n\", D)\n",
    "print(\"Matrix of eigenvalues?\", np.allclose(D, np.diag(lam)))"
   ]
  },
  {
   "cell_type": "code",
   "execution_count": null,
   "metadata": {},
   "outputs": [],
   "source": []
  }
 ],
 "metadata": {
  "anaconda-cloud": {},
  "kernelspec": {
   "display_name": "Python 3",
   "language": "python",
   "name": "python3"
  },
  "language_info": {
   "codemirror_mode": {
    "name": "ipython",
    "version": 3
   },
   "file_extension": ".py",
   "mimetype": "text/x-python",
   "name": "python",
   "nbconvert_exporter": "python",
   "pygments_lexer": "ipython3",
   "version": "3.8.8"
  }
 },
 "nbformat": 4,
 "nbformat_minor": 4
}
